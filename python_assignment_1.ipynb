{
  "nbformat": 4,
  "nbformat_minor": 0,
  "metadata": {
    "colab": {
      "name": "python assignment-1",
      "provenance": [],
      "collapsed_sections": [],
      "authorship_tag": "ABX9TyMdN1KTSaNQLhoOrWv6mXcF",
      "include_colab_link": true
    },
    "kernelspec": {
      "name": "python3",
      "display_name": "Python 3"
    }
  },
  "cells": [
    {
      "cell_type": "markdown",
      "metadata": {
        "id": "view-in-github",
        "colab_type": "text"
      },
      "source": [
        "<a href=\"https://colab.research.google.com/github/paladugulashruthi/assignment-1/blob/master/python_assignment_1.ipynb\" target=\"_parent\"><img src=\"https://colab.research.google.com/assets/colab-badge.svg\" alt=\"Open In Colab\"/></a>"
      ]
    },
    {
      "cell_type": "markdown",
      "metadata": {
        "id": "IdMj31TVvfdT",
        "colab_type": "text"
      },
      "source": [
        "1.\tDevelop a code for below scenario"
      ]
    },
    {
      "cell_type": "code",
      "metadata": {
        "id": "6FiqKbqInTo6",
        "colab_type": "code",
        "colab": {
          "base_uri": "https://localhost:8080/",
          "height": 52
        },
        "outputId": "e5ba97e9-6c98-4313-82cb-e73443b325bf"
      },
      "source": [
        "year=int(input(\"Enter the year:\"))\n",
        "val=year%12\n",
        "if val==0:\n",
        "    print(\"monkey\")\n",
        "elif val==1:\n",
        "    print(\"rooster\")\n",
        "elif val==2:\n",
        "    print(\"dog\")\n",
        "elif val==3:\n",
        "    print(\"pig\")\n",
        "elif val==4:\n",
        "    print(\"rat\")\n",
        "elif val==5:\n",
        "    print(\"ox\")\n",
        "elif val==6:\n",
        "    print(\"tiger\")\n",
        "elif val==7:\n",
        "    print(\"rabbit\")\n",
        "elif val==8:\n",
        "    print(\"dragon\")\n",
        "elif val==9:\n",
        "    print(\"snake\")\n",
        "elif val==10:\n",
        "    print(\"horse\")\n",
        "else:\n",
        "        print(\"sheep\")\n"
      ],
      "execution_count": null,
      "outputs": [
        {
          "output_type": "stream",
          "text": [
            "Enter the year:2018\n",
            "dog\n"
          ],
          "name": "stdout"
        }
      ]
    },
    {
      "cell_type": "markdown",
      "metadata": {
        "id": "ryC7rAf7vX5D",
        "colab_type": "text"
      },
      "source": [
        "2.\tA Quick Fox Transport Co. wants to develop an application for calculating amount based on distance and weight of goods. The charges (Amount) to be calculated as per rates given below. \n",
        " \n",
        "Input:  Distance to be travel: 520     \n",
        "Weight of the goods: 50 \n",
        "Output: Amount to be charged: 3120 /-\n",
        "\n"
      ]
    },
    {
      "cell_type": "code",
      "metadata": {
        "id": "65zq1DLyo4ba",
        "colab_type": "code",
        "colab": {
          "base_uri": "https://localhost:8080/",
          "height": 70
        },
        "outputId": "cdb29f49-fb67-442a-dbe8-b1cf0b3e69f6"
      },
      "source": [
        "dist=int(input(\"enter distance:\"))\n",
        "wt=int(input(\"enter weight:\"))\n",
        "if dist>=500:\n",
        "    if wt>=100:\n",
        "        cost=5*dist\n",
        "    elif wt>=10 and wt<100:\n",
        "        cost=6*dist\n",
        "    else:\n",
        "        cost=7*dist\n",
        "else:\n",
        "    if wt>=100:\n",
        "        cost=8*dist\n",
        "    else:\n",
        "        cost=5*dist\n",
        "print(\"Amount to be charged:\",cost)\n"
      ],
      "execution_count": null,
      "outputs": [
        {
          "output_type": "stream",
          "text": [
            "enter distance:520\n",
            "enter weight:50\n",
            "Amount to be charged: 3120\n"
          ],
          "name": "stdout"
        }
      ]
    },
    {
      "cell_type": "markdown",
      "metadata": {
        "id": "Njcfyf4ivTW-",
        "colab_type": "text"
      },
      "source": [
        "3.\tThe Entertainment Paradise\n",
        "\n",
        " A theater in Delhi wants to develop a computerized Booking System. The theater offers different types of seats. The Ticket rates are- Stalls- Rs. 625/-, Circle- Rs.750/-, Upper Class- Rs.850/- and Box- Rs.1000/-. A discount is given 10% of total amount if tickets are purchased on Cash. In case of credit card holders 5% discount is given. \n",
        "Input: \tType of Seat: Circle    \n",
        "Payment mode: cash\n",
        "Output: Cost of ticket: 675\n"
      ]
    },
    {
      "cell_type": "code",
      "metadata": {
        "id": "mUof8ugdpVek",
        "colab_type": "code",
        "colab": {
          "base_uri": "https://localhost:8080/",
          "height": 70
        },
        "outputId": "e78d96db-b404-4c1b-db63-10f4396f9b20"
      },
      "source": [
        "type=[\"stalls\",\"circles\",\"upperclass\"]\n",
        "payment=[\"cash\",\"card\"]\n",
        "seat=input(\"Enter the type of seat: \")\n",
        "pmode=input(\"Enter the type of payment mode: \")\n",
        "if seat in type[0]:\n",
        "    if pmode in payment[0]:\n",
        "        discnt = 625*10/100\n",
        "        cost=625-discnt\n",
        "    elif pmode in payment[1]:\n",
        "        discnt=625*5/ 100\n",
        "        cost=625-discnt\n",
        "elif seat in type[1]:\n",
        "    if pmode in payment[0]:\n",
        "        discnt=750*10/ 100\n",
        "        cost=750-discnt\n",
        "    elif pmode in payment[1]:\n",
        "        discnt=750*5/ 100\n",
        "        cost=750-discnt\n",
        "else:\n",
        "    if seat in type[2]:\n",
        "        if pmode in payment[2]:\n",
        "            discnt=850*10/ 100\n",
        "            cost=850-discnt\n",
        "    elif pmode in payment[1]:\n",
        "        discnt=850*5/ 100\n",
        "        cost=850-discnt\n",
        "    else:\n",
        "        print(\"error while choosing payment mode\")\n",
        "print(\"cost of ticket:\",cost)"
      ],
      "execution_count": null,
      "outputs": [
        {
          "output_type": "stream",
          "text": [
            "Enter the type of seat: circle\n",
            "Enter the type of payment mode: cash\n",
            "cost of ticket: 675.0\n"
          ],
          "name": "stdout"
        }
      ]
    },
    {
      "cell_type": "markdown",
      "metadata": {
        "id": "_udziZnKvM_O",
        "colab_type": "text"
      },
      "source": [
        "4.\tDevelop a program that calculates the energy needed to heat water from an initial temperature to a final temperature. Your program should prompt the user to enter the amount of water in kilograms and the initial and final temperatures of the water. The formula to compute the energy is \n",
        "Q = M * (finalTemperature – initialTemperature) * 4184.\n",
        "where M is the weight of water in kilograms, temperatures are in degrees Celsius,  and energy Q is measured in joules. (L6)\n"
      ]
    },
    {
      "cell_type": "code",
      "metadata": {
        "id": "XNNgxHyUpetp",
        "colab_type": "code",
        "colab": {
          "base_uri": "https://localhost:8080/",
          "height": 88
        },
        "outputId": "a23bd6ed-e9c9-4f6b-a621-f4f1f0de3c0d"
      },
      "source": [
        "m=int(input(\"enter weight of water in kg: \"))\n",
        "itemp=int(input(\"enter initial temperature of water in celcius: \"))\n",
        "ftemp=int(input(\"enter final temperature of water in celcius: \"))\n",
        "energy=m*(ftemp-itemp)*4184\n",
        "print(\"the energy in joules: \",energy)\n"
      ],
      "execution_count": null,
      "outputs": [
        {
          "output_type": "stream",
          "text": [
            "enter weight of water in kg: 2000\n",
            "enter initial temperature of water in celcius: 20\n",
            "enter final temperature of water in celcius: 80\n",
            "the energy in joules:  502080000\n"
          ],
          "name": "stdout"
        }
      ]
    },
    {
      "cell_type": "markdown",
      "metadata": {
        "id": "5Eoa1QR1u_rL",
        "colab_type": "text"
      },
      "source": [
        "5.\tDevelop a program that prompts user to enter month and  print \n",
        "a.\t“Winter ” -   December ,January and February\n",
        "b.\t“Spring”  -   March ,April and May\n",
        "c.\t“Summer”  --- June ,July, August\n",
        "d.\t“Autumn ”  -- September ,October, November\n"
      ]
    },
    {
      "cell_type": "code",
      "metadata": {
        "id": "CjE5Lo5RqY2e",
        "colab_type": "code",
        "colab": {
          "base_uri": "https://localhost:8080/",
          "height": 52
        },
        "outputId": "2cbc516e-839d-4fa4-b8a0-0e74e4c4c972"
      },
      "source": [
        "winter=[\"december\",\"january\",\"february\"]\n",
        "spring=[\"march\",\"april\",\"may\"]\n",
        "summer=[\"june\",\"july\",\"august\"]\n",
        "autumn=[\"september\",\"october\",\"november\"]\n",
        "month=input(\"enter a month:\")\n",
        "if month in winter:\n",
        "    print(\"it is a winter season\")\n",
        "elif month in spring:\n",
        "    print(\"it is a spring season\")\n",
        "elif month in summer:\n",
        "    print(\"it is a summer season\")\n",
        "else:\n",
        "    print(\"it is an autumn season\")\n"
      ],
      "execution_count": null,
      "outputs": [
        {
          "output_type": "stream",
          "text": [
            "enter a month:march\n",
            "it is a spring season\n"
          ],
          "name": "stdout"
        }
      ]
    },
    {
      "cell_type": "markdown",
      "metadata": {
        "id": "AQRQpbi3unYv",
        "colab_type": "text"
      },
      "source": [
        "6.\tBody Mass Index"
      ]
    },
    {
      "cell_type": "code",
      "metadata": {
        "id": "9OC0w47IrG_X",
        "colab_type": "code",
        "colab": {
          "base_uri": "https://localhost:8080/",
          "height": 141
        },
        "outputId": "cf88cf94-e5bb-44a4-da64-896ef3a47032"
      },
      "source": [
        "age=int(input(\"Enter your age:\"))\n",
        "if age>20:\n",
        "    wt=float(input(\"Enter your weight in pounds:\"))\n",
        "    ht=float(input(\"Enter your height in inches:\"))\n",
        "    w=(wt*0.45359237)\n",
        "    print(\"w\",w)\n",
        "    h=(ht*0.0254)\n",
        "    print(\"h\",h)\n",
        "    bmi=w/(h*h)\n",
        "print(\"bmi:\", bmi)\n",
        "if bmi<18.5:\n",
        "  print(\"underweight\")\n",
        "elif bmi>=18.5 and bmi<25.0:\n",
        "  print(\"normal\")\n",
        "elif bmi>=25.0 and bmi>30.0:\n",
        "    print(\"overweight\")\n",
        "elif bmi>30.0:\n",
        "    print(\"obese\")"
      ],
      "execution_count": null,
      "outputs": [
        {
          "output_type": "stream",
          "text": [
            "Enter your age:21\n",
            "Enter your weight in pounds:45\n",
            "Enter your height in inches:300\n",
            "w 20.41165665\n",
            "h 7.62\n",
            "bmi: 0.35153478981957964\n",
            "underweight\n"
          ],
          "name": "stdout"
        }
      ]
    },
    {
      "cell_type": "markdown",
      "metadata": {
        "id": "VAABCO72ueJQ",
        "colab_type": "text"
      },
      "source": [
        "7.\tWrite a program that reads an integer between 100 and 1000 and adds all the digits in the integer \t(\tex: input 745 \t# output =16\t(7+4+5)\t)"
      ]
    },
    {
      "cell_type": "code",
      "metadata": {
        "id": "PtUQ6UeVrqfl",
        "colab_type": "code",
        "colab": {
          "base_uri": "https://localhost:8080/",
          "height": 52
        },
        "outputId": "5f9c0934-917b-4a1f-efe1-68ff05ddd54d"
      },
      "source": [
        "num = int(input(\"Enter a number between 100 and 1000 \"))\n",
        "rem=0\n",
        "sumdigit=0\n",
        "if(num>=100 and num<=1000):\n",
        "    while num>0:\n",
        "        rem=num%10\n",
        "        sumdigit=sumdigit+rem\n",
        "        num=num//10\n",
        "print(sumdigit)\n"
      ],
      "execution_count": null,
      "outputs": [
        {
          "output_type": "stream",
          "text": [
            "Enter a number between 100 and 1000 230\n",
            "5\n"
          ],
          "name": "stdout"
        }
      ]
    },
    {
      "cell_type": "markdown",
      "metadata": {
        "id": "OMExY2p5uYvm",
        "colab_type": "text"
      },
      "source": [
        "8.\tPrint all palindrome numbers between 1 to 1000."
      ]
    },
    {
      "cell_type": "code",
      "metadata": {
        "id": "f2Qo6wM2r5B_",
        "colab_type": "code",
        "colab": {
          "base_uri": "https://localhost:8080/",
          "height": 1000
        },
        "outputId": "d9ec354b-a575-4182-8f5b-9d6dbcc56213"
      },
      "source": [
        "rem=0\n",
        "for i in range(1,1000):\n",
        "    n=i\n",
        "    rev=0\n",
        "    while n>0:\n",
        "        rem=n%10\n",
        "        rev=rev*10+rem\n",
        "        n=n//10\n",
        "    if i==rev:\n",
        "        print(i)\n"
      ],
      "execution_count": null,
      "outputs": [
        {
          "output_type": "stream",
          "text": [
            "1\n",
            "2\n",
            "3\n",
            "4\n",
            "5\n",
            "6\n",
            "7\n",
            "8\n",
            "9\n",
            "11\n",
            "22\n",
            "33\n",
            "44\n",
            "55\n",
            "66\n",
            "77\n",
            "88\n",
            "99\n",
            "101\n",
            "111\n",
            "121\n",
            "131\n",
            "141\n",
            "151\n",
            "161\n",
            "171\n",
            "181\n",
            "191\n",
            "202\n",
            "212\n",
            "222\n",
            "232\n",
            "242\n",
            "252\n",
            "262\n",
            "272\n",
            "282\n",
            "292\n",
            "303\n",
            "313\n",
            "323\n",
            "333\n",
            "343\n",
            "353\n",
            "363\n",
            "373\n",
            "383\n",
            "393\n",
            "404\n",
            "414\n",
            "424\n",
            "434\n",
            "444\n",
            "454\n",
            "464\n",
            "474\n",
            "484\n",
            "494\n",
            "505\n",
            "515\n",
            "525\n",
            "535\n",
            "545\n",
            "555\n",
            "565\n",
            "575\n",
            "585\n",
            "595\n",
            "606\n",
            "616\n",
            "626\n",
            "636\n",
            "646\n",
            "656\n",
            "666\n",
            "676\n",
            "686\n",
            "696\n",
            "707\n",
            "717\n",
            "727\n",
            "737\n",
            "747\n",
            "757\n",
            "767\n",
            "777\n",
            "787\n",
            "797\n",
            "808\n",
            "818\n",
            "828\n",
            "838\n",
            "848\n",
            "858\n",
            "868\n",
            "878\n",
            "888\n",
            "898\n",
            "909\n",
            "919\n",
            "929\n",
            "939\n",
            "949\n",
            "959\n",
            "969\n",
            "979\n",
            "989\n",
            "999\n"
          ],
          "name": "stdout"
        }
      ]
    },
    {
      "cell_type": "markdown",
      "metadata": {
        "id": "gJnhDl0ntyHj",
        "colab_type": "text"
      },
      "source": [
        "9.\tPrint all Armstrong numbers between 1 to 1000. "
      ]
    },
    {
      "cell_type": "code",
      "metadata": {
        "id": "0soT_MoIsQX2",
        "colab_type": "code",
        "colab": {
          "base_uri": "https://localhost:8080/",
          "height": 106
        },
        "outputId": "e0a69976-ae5b-41df-9e12-888a44bad564"
      },
      "source": [
        "rem=0\n",
        "for i in range(1,1000):\n",
        "    n=i\n",
        "    rev=0\n",
        "    while n>0:\n",
        "        rem=n%10\n",
        "        rev=rev+rem**3\n",
        "        n=n//10\n",
        "    if i==rev:\n",
        "        print(i)"
      ],
      "execution_count": null,
      "outputs": [
        {
          "output_type": "stream",
          "text": [
            "1\n",
            "153\n",
            "370\n",
            "371\n",
            "407\n"
          ],
          "name": "stdout"
        }
      ]
    },
    {
      "cell_type": "markdown",
      "metadata": {
        "id": "BisY4TzAtrfq",
        "colab_type": "text"
      },
      "source": [
        "10.\tWrite a Java program which iterates the integers from 1 to 100. For multiples of three print \"Fizz\" instead of the number and print \"Buzz\" for the multiples of five. When number is divided by both three and five, print \"fizz buzz\"."
      ]
    },
    {
      "cell_type": "code",
      "metadata": {
        "id": "EUwqNQS0spMX",
        "colab_type": "code",
        "colab": {
          "base_uri": "https://localhost:8080/",
          "height": 835
        },
        "outputId": "152c9fd8-c79f-47b8-9fae-f096e0581fb0"
      },
      "source": [
        "for i in range(1,100):\n",
        "    if i%3==0 and i%5==0:\n",
        "        print(\"fizzbuzz\")\n",
        "    elif i%5==0:\n",
        "        print(\"buzz\")\n",
        "    elif \n",
        "        print(\"fizz buzz\")\n"
      ],
      "execution_count": 14,
      "outputs": [
        {
          "output_type": "stream",
          "text": [
            "fizz\n",
            "buzz\n",
            "fizz\n",
            "fizz\n",
            "buzz\n",
            "fizz\n",
            "fizz\n",
            "fizz\n",
            "buzz\n",
            "fizz\n",
            "fizz\n",
            "buzz\n",
            "fizz\n",
            "fizz\n",
            "fizz\n",
            "buzz\n",
            "fizz\n",
            "fizz\n",
            "buzz\n",
            "fizz\n",
            "fizz\n",
            "fizz\n",
            "buzz\n",
            "fizz\n",
            "fizz\n",
            "buzz\n",
            "fizz\n",
            "fizz\n",
            "fizz\n",
            "buzz\n",
            "fizz\n",
            "fizz\n",
            "buzz\n",
            "fizz\n",
            "fizz\n",
            "fizz\n",
            "buzz\n",
            "fizz\n",
            "fizz\n",
            "buzz\n",
            "fizz\n",
            "fizz\n",
            "fizz\n",
            "buzz\n",
            "fizz\n",
            "fizz\n"
          ],
          "name": "stdout"
        }
      ]
    },
    {
      "cell_type": "markdown",
      "metadata": {
        "id": "xUBZOppPtfWZ",
        "colab_type": "text"
      },
      "source": [
        "11.\tSpider Problem: A spider present at the bottom of the well of height H, needs to get out of it, using the slippery wall of the well. It decides to climb up the well; it goes up U meters and slips down D meters in one single step. So, in each step it covers (U-D) meters, and if the spider gets out of the well by covering U meters in the last step it doesn’t a slip back. For example, if the spider climbs up 5 meters and slips down by 3 meters in a single step, it covers (U - D) m in each step and 96 m in 48 steps, but in the 49th step it climbs up 5 m and reaches out of the well and it will not slip down and the step is counted as one step.     \n",
        "Input: Each test case will contain 3 integers ’H’ height of the well, next ’U’ meters climbs up in each step, and the last ’D’ meters slips down in each step.\n",
        "Output:  The number of steps 'N' required to get out of the well.\n",
        "Example 1:\n",
        " \tInput:\t\t\t\t\t\tOuput \n",
        "\t200 50 1\t\t\t\t\t    5\n",
        "\tExample 2:\n",
        " \tInput:\t\t\t\t\t\tOutput\n",
        "\t500 20 15\t\t\t\t\t   98 "
      ]
    },
    {
      "cell_type": "code",
      "metadata": {
        "id": "0HikuROXtJNb",
        "colab_type": "code",
        "colab": {
          "base_uri": "https://localhost:8080/",
          "height": 88
        },
        "outputId": "816265ab-2e5b-4851-9270-4d43bf090857"
      },
      "source": [
        "h=int(input(\"enter height of the well :: \"))\n",
        "u=int(input(\"enter the meters spider climb up for each step :: \"))\n",
        "d=int(input(\"enter the meters the spider slips down for each step :: \"))\n",
        "sp=0\n",
        "t=0\n",
        "while t<=h:\n",
        "    t=t+u\n",
        "    if(t<=h):\n",
        "        t=t-d\n",
        "    sp=sp+1\n",
        "print(sp)\n",
        "\n"
      ],
      "execution_count": null,
      "outputs": [
        {
          "output_type": "stream",
          "text": [
            "enter height of the well :: 200\n",
            "enter the meters spider climb up for each step :: 50\n",
            "enter the meters the spider slips down for each step :: 1\n",
            "5\n"
          ],
          "name": "stdout"
        }
      ]
    }
  ]
}